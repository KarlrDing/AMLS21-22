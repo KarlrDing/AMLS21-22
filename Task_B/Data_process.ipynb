{
 "cells": [
  {
   "cell_type": "code",
   "execution_count": 1,
   "metadata": {},
   "outputs": [
    {
     "name": "stdout",
     "output_type": "stream",
     "text": [
      "[name: \"/device:CPU:0\"\n",
      "device_type: \"CPU\"\n",
      "memory_limit: 268435456\n",
      "locality {\n",
      "}\n",
      "incarnation: 11787183636096940024\n",
      ", name: \"/device:GPU:0\"\n",
      "device_type: \"GPU\"\n",
      "memory_limit: 3660972032\n",
      "locality {\n",
      "  bus_id: 1\n",
      "  links {\n",
      "  }\n",
      "}\n",
      "incarnation: 14163940886980150187\n",
      "physical_device_desc: \"device: 0, name: NVIDIA GeForce RTX 3060 Laptop GPU, pci bus id: 0000:01:00.0, compute capability: 8.6\"\n",
      "]\n"
     ]
    }
   ],
   "source": [
    "#CUDA check\n",
    "from tensorflow.python.client import device_lib \n",
    "print(device_lib.list_local_devices())"
   ]
  },
  {
   "cell_type": "code",
   "execution_count": 4,
   "metadata": {},
   "outputs": [
    {
     "data": {
      "text/plain": [
       "[PhysicalDevice(name='/physical_device:GPU:0', device_type='GPU')]"
      ]
     },
     "execution_count": 4,
     "metadata": {},
     "output_type": "execute_result"
    }
   ],
   "source": [
    "#device\n",
    "import tensorflow as tf\n",
    "tf.config.list_physical_devices('GPU')"
   ]
  },
  {
   "cell_type": "code",
   "execution_count": 2,
   "metadata": {},
   "outputs": [],
   "source": [
    "#libraries\n",
    "import numpy as np\n",
    "import pandas as pd\n",
    "from sklearn import preprocessing\n",
    "import tensorflow as tf\n",
    "import tensorflow.keras.applications as ap"
   ]
  },
  {
   "cell_type": "code",
   "execution_count": 3,
   "metadata": {},
   "outputs": [],
   "source": [
    "#img and label directs\n",
    "#img\n",
    "img_dir_upper = './dataset/image/IMAGE_'\n",
    "img_dir_lower = '.jpg'\n",
    "img_name_code = np.arange(0,3000,1).astype(str)\n",
    "def img_dir(n):\n",
    "    return img_dir_upper+img_name_code[n].rjust(4,'0')+img_dir_lower\n",
    "#label\n",
    "label_dir = './dataset/label.csv'"
   ]
  },
  {
   "cell_type": "code",
   "execution_count": 22,
   "metadata": {},
   "outputs": [],
   "source": [
    "#load data function\n",
    "def data_load224(number,resize = [224,224]):\n",
    "    img_raw = tf.io.read_file(img_dir(number))\n",
    "    img_tensor = tf.image.decode_image(img_raw)\n",
    "    img_tensor = tf.image.central_crop(img_tensor,0.5)\n",
    "    img_tensor = tf.image.resize(img_tensor, resize)\n",
    "    img_tensor = img_tensor/255\n",
    "    #img_tensor = tf.image.per_image_standardization(img_tensor)\n",
    "    return img_tensor\n",
    "\n",
    "def data_load512(number):\n",
    "    img_raw = tf.io.read_file(img_dir(number))\n",
    "    img_tensor = tf.image.decode_image(img_raw)\n",
    "    #img_tensor = img_tensor/255\n",
    "    return img_tensor"
   ]
  },
  {
   "cell_type": "code",
   "execution_count": 24,
   "metadata": {},
   "outputs": [],
   "source": [
    "#prepare data set 224\n",
    "data_set_list = []\n",
    "for i in range(3000):\n",
    "    data_set_list.append(data_load224(i))\n",
    "data_set_224 = np.array(data_set_list)"
   ]
  },
  {
   "cell_type": "code",
   "execution_count": 7,
   "metadata": {},
   "outputs": [],
   "source": [
    "#prepare data set 512\n",
    "data_set_list = []\n",
    "for i in range(3000):\n",
    "    data_set_list.append(data_load512(i))\n",
    "data_set_512 = np.array(data_set_list)"
   ]
  },
  {
   "cell_type": "code",
   "execution_count": 13,
   "metadata": {},
   "outputs": [],
   "source": [
    "#save the img into npy\n",
    "np.save('./dataset/img224.npy',data_set_224)"
   ]
  },
  {
   "cell_type": "code",
   "execution_count": 5,
   "metadata": {},
   "outputs": [],
   "source": [
    "#save the img into npy\n",
    "np.save('./dataset/img512.npy',data_set_512)"
   ]
  },
  {
   "cell_type": "code",
   "execution_count": 6,
   "metadata": {},
   "outputs": [],
   "source": [
    "#prepare the label\n",
    "label = pd.read_csv(label_dir)\n",
    "le = preprocessing.LabelEncoder()\n",
    "le.fit(label.label.values)\n",
    "label_encode = le.transform(label.label.values)"
   ]
  },
  {
   "cell_type": "code",
   "execution_count": 7,
   "metadata": {},
   "outputs": [
    {
     "data": {
      "text/plain": [
       "(3000,)"
      ]
     },
     "execution_count": 7,
     "metadata": {},
     "output_type": "execute_result"
    }
   ],
   "source": [
    "label_encode.shape"
   ]
  },
  {
   "cell_type": "code",
   "execution_count": 8,
   "metadata": {},
   "outputs": [],
   "source": [
    "#save the label into npy\n",
    "np.save('./dataset/label.npy',label_encode)"
   ]
  }
 ],
 "metadata": {
  "interpreter": {
   "hash": "ad3b7ee823b52254596b0e0fcc7768610253bcaf2641d7494b3d6d8b0fa4a27b"
  },
  "kernelspec": {
   "display_name": "Python 3.8.12 64-bit ('python38GPU': conda)",
   "language": "python",
   "name": "python3"
  },
  "language_info": {
   "codemirror_mode": {
    "name": "ipython",
    "version": 3
   },
   "file_extension": ".py",
   "mimetype": "text/x-python",
   "name": "python",
   "nbconvert_exporter": "python",
   "pygments_lexer": "ipython3",
   "version": "3.8.12"
  },
  "orig_nbformat": 4
 },
 "nbformat": 4,
 "nbformat_minor": 2
}
