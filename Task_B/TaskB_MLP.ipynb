{
 "cells": [
  {
   "cell_type": "code",
   "execution_count": 1,
   "metadata": {},
   "outputs": [],
   "source": [
    "#import libraries\n",
    "#import numpy and pandas\n",
    "import numpy as np\n",
    "import pandas as pd\n",
    "#import matplotlib\n",
    "import matplotlib.pyplot as plt\n",
    "#import pickle\n",
    "import pickle\n",
    "#use the plt inside the notebook\n",
    "%matplotlib inline\n",
    "#T1 level models\n",
    "from sklearn.model_selection import cross_validate\n",
    "from sklearn.model_selection import train_test_split\n",
    "from sklearn.metrics import roc_auc_score\n",
    "from sklearn.neural_network import MLPClassifier as MLP"
   ]
  },
  {
   "cell_type": "code",
   "execution_count": 2,
   "metadata": {},
   "outputs": [],
   "source": [
    "#directory and name constants for the image dataset\n",
    "#directory and name constants for the images\n",
    "img_dir = './dataset/image/'\n",
    "img_name_front = 'IMAGE_'\n",
    "img_name_code = np.arange(0,3000,1).astype(str)\n",
    "img_name_back = '.jpg'\n",
    "#directory and name constants for the label\n",
    "label_dir = './dataset/'\n",
    "label_name = 'label.csv'\n",
    "#pkl file directory\n",
    "pkl_dir = './dataset/'\n",
    "pkl_name_x0 = 'trainX0.pkl'\n",
    "pkl_name_x1 = 'trainX1.pkl'\n",
    "pkl_name_x2 = 'trainX2.pkl'\n",
    "pkl_name_y = 'trainY.pkl'"
   ]
  },
  {
   "cell_type": "code",
   "execution_count": 3,
   "metadata": {},
   "outputs": [],
   "source": [
    "#load the data\n",
    "data_X0 = pd.read_pickle(pkl_dir+pkl_name_x0)\n",
    "data_X1 = pd.read_pickle(pkl_dir+pkl_name_x1)\n",
    "data_X2 = pd.read_pickle(pkl_dir+pkl_name_x2)\n",
    "data_Y = pd.read_pickle(pkl_dir+pkl_name_y)"
   ]
  },
  {
   "cell_type": "code",
   "execution_count": 4,
   "metadata": {},
   "outputs": [],
   "source": [
    "#organize the data\n",
    "#distribute the label\n",
    "X0 = []\n",
    "X1 = []\n",
    "X2 = []\n",
    "Y  = []\n",
    "for i in range(3000):\n",
    "    #binary label 0 stand for no tumor and 1 stands for have tumor\n",
    "    if data_Y.tumor_type[i] == 'no':\n",
    "        Y.append(0)\n",
    "    elif data_Y.tumor_type[i] == 'meningioma':\n",
    "        Y.append(1)\n",
    "    elif data_Y.tumor_type[i] == 'glioma':\n",
    "        Y.append(2)\n",
    "    elif data_Y.tumor_type[i] == 'pituitary':\n",
    "        Y.append(3)\n",
    "    else:\n",
    "        Y.append(-1)\n",
    "    #list like img set\n",
    "    X0.append(data_X0[i].tolist())\n",
    "    X1.append(data_X1[i].tolist())\n",
    "    X2.append(data_X2[i].tolist())"
   ]
  },
  {
   "cell_type": "code",
   "execution_count": 5,
   "metadata": {},
   "outputs": [],
   "source": [
    "#seperate XY into train and test\n",
    "#F\n",
    "X0_train, X0_test, y0_train, y0_test = train_test_split(X0,Y,test_size = 0.2)\n",
    "#S\n",
    "X1_train, X1_test, y1_train, y1_test = train_test_split(X1,Y,test_size = 0.2)\n",
    "#N\n",
    "X2_train, X2_test, y2_train, y2_test = train_test_split(X2,Y,test_size = 0.2)"
   ]
  },
  {
   "cell_type": "code",
   "execution_count": 25,
   "metadata": {},
   "outputs": [],
   "source": [
    "#MLP method\n",
    "def method_MLP_pre(x_train, x_test, y_train, y_test, hidden_layer_size = (842,), activation = 'relu',solver = 'adam') :\n",
    "\n",
    "    model = MLP(hidden_layer_sizes = hidden_layer_size, activation = activation, solver= solver,learning_rate_init=0.0005,alpha=0.0001)\n",
    "\n",
    "    clf = model\n",
    "    clf.fit(x_train,y_train)\n",
    "\n",
    "    r1 = cross_validate(clf,x_train,y_train,cv=5, scoring = ['accuracy','precision_macro','recall_macro','f1_macro'])\n",
    "    r2 = cross_validate(clf,x_test,y_test,cv=5, scoring = ['accuracy','precision_macro','recall_macro','f1_macro'])\n",
    "    y_score1 = clf.predict_proba(x_train)\n",
    "    y_score2 = clf.predict_proba(x_test)\n",
    "    roc1 = roc_auc_score(y_train,y_score1, multi_class='ovo')\n",
    "    roc2 = roc_auc_score(y_test,y_score2, multi_class='ovo')\n",
    "    print(clf.score(x_train,y_train))\n",
    "    print(clf.score(x_test,y_test))\n",
    "    return r1,r2,roc1,roc2\n",
    "\n",
    "\n",
    "#MLP method with dataset\n",
    "def method_MLP(sel):\n",
    "    if sel == 0:\n",
    "        return method_MLP_pre(X0_train, X0_test, y0_train, y0_test)\n",
    "    elif sel ==1:\n",
    "        return method_MLP_pre(X1_train, X1_test, y1_train, y1_test)\n",
    "    elif sel ==2:\n",
    "        return method_MLP_pre(X2_train, X2_test, y2_train, y2_test)\n",
    "    else:\n",
    "        return 0"
   ]
  },
  {
   "cell_type": "code",
   "execution_count": 26,
   "metadata": {},
   "outputs": [],
   "source": [
    "#score plot function box\n",
    "def method_box(r1,r2):\n",
    "\n",
    "    fig,axs = plt.subplots(2,2)\n",
    "    axs[0,0].boxplot([r1['test_accuracy'],r2['test_accuracy']],labels = ['train accuracy','test accuracy'])\n",
    "    axs[0,1].boxplot([r1['test_precision_macro'],r2['test_precision_macro']],labels = ['train precision','test precision'])\n",
    "    axs[1,0].boxplot([r1['test_recall_macro'],r2['test_recall_macro']],labels = ['train recall','test recall'])\n",
    "    axs[1,1].boxplot([r1['test_f1_macro'],r2['test_f1_macro']],labels = ['train f1','test f1'])"
   ]
  },
  {
   "cell_type": "code",
   "execution_count": 27,
   "metadata": {},
   "outputs": [
    {
     "name": "stdout",
     "output_type": "stream",
     "text": [
      "0.9954166666666666\n",
      "0.8216666666666667\n"
     ]
    }
   ],
   "source": [
    "r1,r2,roc1,roc2 = method_MLP(0)"
   ]
  },
  {
   "cell_type": "code",
   "execution_count": 28,
   "metadata": {},
   "outputs": [
    {
     "data": {
      "image/png": "[encoded data removed]",
      "text/plain": [
       "<Figure size 432x288 with 4 Axes>"
      ]
     },
     "metadata": {
      "needs_background": "light"
     },
     "output_type": "display_data"
    }
   ],
   "source": [
    "method_box(r1,r2)\n",
    "plt.savefig('./figs/t2mlp.svg')"
   ]
  },
  {
   "cell_type": "code",
   "execution_count": 30,
   "metadata": {},
   "outputs": [
    {
     "data": {
      "text/plain": [
       "(0.9992773902952768, 0.9182600828862791)"
      ]
     },
     "execution_count": 30,
     "metadata": {},
     "output_type": "execute_result"
    }
   ],
   "source": [
    "roc1 , roc2"
   ]
  }
 ],
 "metadata": {
  "interpreter": {
   "hash": "041b99419b31a1aa6b11d902172fdb9630ac2ffc40bebeba6c7d44b022968f06"
  },
  "kernelspec": {
   "display_name": "Python 3.7.11 64-bit ('python37AMLS': conda)",
   "language": "python",
   "name": "python3"
  },
  "language_info": {
   "codemirror_mode": {
    "name": "ipython",
    "version": 3
   },
   "file_extension": ".py",
   "mimetype": "text/x-python",
   "name": "python",
   "nbconvert_exporter": "python",
   "pygments_lexer": "ipython3",
   "version": "3.7.11"
  },
  "orig_nbformat": 4
 },
 "nbformat": 4,
 "nbformat_minor": 2
}
