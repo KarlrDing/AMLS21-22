{
 "cells": [
  {
   "cell_type": "code",
   "execution_count": 1,
   "metadata": {},
   "outputs": [
    {
     "name": "stderr",
     "output_type": "stream",
     "text": [
      "2021-12-14 17:37:00.154894: I tensorflow/stream_executor/platform/default/dso_loader.cc:49] Successfully opened dynamic library libcudart.so.10.1\n"
     ]
    }
   ],
   "source": [
    "#library\n",
    "import numpy as np\n",
    "from sklearn.model_selection import train_test_split\n",
    "import tensorflow as tf\n",
    "from tensorflow import keras\n",
    "import tensorflow.keras.applications as ap\n",
    "\n",
    "#choose the GPU\n",
    "GPU_number = \"4\"\n",
    "import os\n",
    "os.environ[\"CUDA_DEVICE_ORDER\"] = \"PCI_BUS_ID\"\n",
    "os.environ[\"CUDA_VISIBLE_DEVICES\"] = GPU_number  \n",
    "\n",
    "#directs\n",
    "img224_dir = './dataset/img224.npy'\n",
    "img512_dir = './dataset/img512.npy'\n",
    "label_dir = './dataset/label.npy'\n",
    "\n",
    "#load label and img\n",
    "img224 = np.load(img224_dir)\n",
    "img512 = np.load(img512_dir)\n",
    "label = np.load(label_dir)"
   ]
  },
  {
   "cell_type": "code",
   "execution_count": 2,
   "metadata": {},
   "outputs": [],
   "source": [
    "#seperate dataset into train and test\n",
    "#X224_train, X224_test, y224_train, y224_test = train_test_split(img224,label,test_size=0.2)\n",
    "#X512_train, X512_test, y512_train, y512_test = train_test_split(img512,label,test_size=0.2)\n",
    "X224_train = img224\n",
    "y224_train = label\n",
    "X512_train = img512\n",
    "y512_train = label"
   ]
  },
  {
   "cell_type": "code",
   "execution_count": 3,
   "metadata": {},
   "outputs": [],
   "source": [
    "#to make the label one-hot key encoding\n",
    "y224_train = tf.keras.utils.to_categorical(y224_train, 4)\n",
    "#y224_test = tf.keras.utils.to_categorical(y224_test, 4)\n",
    "\n",
    "y512_train = tf.keras.utils.to_categorical(y512_train, 4)\n",
    "#y512_test = tf.keras.utils.to_categorical(y512_test, 4)"
   ]
  },
  {
   "cell_type": "code",
   "execution_count": 4,
   "metadata": {},
   "outputs": [],
   "source": [
    "#checkpoint\n",
    "checkpoint_filepath = './checkpoint/vgg_scratch'\n",
    "model_checkpoint_callack = keras.callbacks.ModelCheckpoint(\n",
    "    filepath = checkpoint_filepath,\n",
    "    save_weight_only = True,\n",
    "    save_freq = 'epoch',\n",
    "    mode = 'auto',\n",
    "    save_best_only = True,\n",
    "    monitor = 'val_accuracy'\n",
    ")"
   ]
  },
  {
   "cell_type": "code",
   "execution_count": 5,
   "metadata": {},
   "outputs": [],
   "source": [
    "#scratch VGG16\n",
    "def model_vgg16(X_train, y_train,epochs = 8):\n",
    "    model = ap.VGG16(weights=None,input_shape=(512,512,3),classes=4)\n",
    "\n",
    "    callbacks = [keras.callbacks.TensorBoard(log_dir='./logs/vgg_scratch'),model_checkpoint_callack]\n",
    "    \n",
    "    model.compile(optimizer='AdaDelta', loss='categorical_crossentropy',metrics=['accuracy'])\n",
    "    history = model.fit(X_train,y_train,batch_size=20, epochs=epochs, callbacks = callbacks, validation_split = 0.2)\n",
    "\n",
    "    return model,history"
   ]
  },
  {
   "cell_type": "code",
   "execution_count": null,
   "metadata": {},
   "outputs": [],
   "source": [
    "model_vgg16_m1,history= model_vgg16(X512_train,y512_train,16)"
   ]
  },
  {
   "cell_type": "code",
   "execution_count": null,
   "metadata": {},
   "outputs": [],
   "source": [
    "#model_vgg16_m1.evaluate(X512_test,y512_test,batch_size=20)"
   ]
  },
  {
   "cell_type": "code",
   "execution_count": null,
   "metadata": {},
   "outputs": [],
   "source": [
    "model_vgg16_m1.save_weights('./weights/vgg_scratch_weights.h5')"
   ]
  },
  {
   "cell_type": "code",
   "execution_count": null,
   "metadata": {},
   "outputs": [
    {
     "name": "stdout",
     "output_type": "stream",
     "text": [
      "{'verbose': 1, 'epochs': 32, 'steps': 120}\n",
      "dict_keys(['loss', 'accuracy', 'val_loss', 'val_accuracy'])\n"
     ]
    }
   ],
   "source": [
    "#check the accuracy curve\n",
    "print(history.params)\n",
    "print(history.history.keys())"
   ]
  },
  {
   "cell_type": "code",
   "execution_count": null,
   "metadata": {},
   "outputs": [
    {
     "data": {
      "text/plain": [
       "[0.5566666722297668,\n",
       " 0.5950000286102295,\n",
       " 0.70333331823349,\n",
       " 0.721666693687439,\n",
       " 0.7433333396911621,\n",
       " 0.7599999904632568,\n",
       " 0.7416666746139526,\n",
       " 0.7916666865348816,\n",
       " 0.778333306312561,\n",
       " 0.7516666650772095,\n",
       " 0.7866666913032532,\n",
       " 0.8583333492279053,\n",
       " 0.846666693687439,\n",
       " 0.8550000190734863,\n",
       " 0.8333333134651184,\n",
       " 0.8166666626930237,\n",
       " 0.8550000190734863,\n",
       " 0.8733333349227905,\n",
       " 0.875,\n",
       " 0.8966666460037231,\n",
       " 0.9100000262260437,\n",
       " 0.8816666603088379,\n",
       " 0.9066666960716248,\n",
       " 0.8866666555404663,\n",
       " 0.9133333563804626,\n",
       " 0.9083333611488342,\n",
       " 0.9066666960716248,\n",
       " 0.9016666412353516,\n",
       " 0.9150000214576721,\n",
       " 0.9133333563804626,\n",
       " 0.9116666913032532,\n",
       " 0.9166666865348816]"
      ]
     },
     "execution_count": 10,
     "metadata": {},
     "output_type": "execute_result"
    }
   ],
   "source": [
    "history.history['val_accuracy']"
   ]
  },
  {
   "cell_type": "code",
   "execution_count": null,
   "metadata": {},
   "outputs": [],
   "source": [
    "#save the curve\n",
    "import pandas as pd\n",
    "his = pd.DataFrame(history.history)\n",
    "his.to_pickle('./curve/history_vgg_scratch.pkl')"
   ]
  }
 ],
 "metadata": {
  "kernelspec": {
   "display_name": "Python 3 (ipykernel)",
   "language": "python",
   "name": "python3"
  },
  "language_info": {
   "codemirror_mode": {
    "name": "ipython",
    "version": 3
   },
   "file_extension": ".py",
   "mimetype": "text/x-python",
   "name": "python",
   "nbconvert_exporter": "python",
   "pygments_lexer": "ipython3",
   "version": "3.9.7"
  },
  "orig_nbformat": 4
 },
 "nbformat": 4,
 "nbformat_minor": 2
}
