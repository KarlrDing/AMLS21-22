{
 "cells": [
  {
   "cell_type": "code",
   "execution_count": 5,
   "metadata": {},
   "outputs": [],
   "source": [
    "#import libraries\n",
    "#import numpy and pandas\n",
    "import numpy as np\n",
    "import pandas as pd\n",
    "#import matplotlib\n",
    "import matplotlib.pyplot as plt\n",
    "#use the plt inside the notebook\n",
    "%matplotlib inline\n",
    "#T1 level models\n",
    "from sklearn import metrics\n",
    "from sklearn.model_selection import cross_validate\n",
    "from sklearn.metrics import roc_curve\n",
    "from sklearn.ensemble import RandomForestClassifier as RFC\n",
    "from sklearn.svm import SVC\n",
    "from sklearn.neural_network import MLPClassifier as MLP"
   ]
  },
  {
   "cell_type": "code",
   "execution_count": 6,
   "metadata": {},
   "outputs": [],
   "source": [
    "#pkl file directory\n",
    "pkl_dir = './dataset/'\n",
    "pkl_name_x0 = 'trainX0.pkl'\n",
    "pkl_name_y = 'trainY.pkl'\n",
    "#load the data\n",
    "data_X = pd.read_pickle(pkl_dir+pkl_name_x0)\n",
    "data_Y = pd.read_pickle(pkl_dir+pkl_name_y)"
   ]
  },
  {
   "cell_type": "code",
   "execution_count": 7,
   "metadata": {},
   "outputs": [],
   "source": [
    "#pkl file directory\n",
    "pkl_dir = './dataset/'\n",
    "pkl_name_xt = 'testX0.pkl'\n",
    "pkl_name_yt = 'testY.pkl'\n",
    "#load the data\n",
    "data_Xt = pd.read_pickle(pkl_dir+pkl_name_xt)\n",
    "data_Yt = pd.read_pickle(pkl_dir+pkl_name_yt)"
   ]
  },
  {
   "cell_type": "code",
   "execution_count": 8,
   "metadata": {},
   "outputs": [],
   "source": [
    "#organize the data\n",
    "#distribute the label into 2 group\n",
    "x_train = []\n",
    "y_train = []\n",
    "x_test  = []\n",
    "y_test  = []\n",
    "for i in range(3000):\n",
    "    #binary label 0 stand for no tumor and 1 stands for have tumor\n",
    "    if data_Y.tumor_type[i] == 'no':\n",
    "        y_train.append(0)\n",
    "    else:\n",
    "        y_train.append(1)\n",
    "    #list like img set\n",
    "    #x_train.append(data_X[i].tolist())\n",
    "for i in range(200):\n",
    "    #binary label 0 stand for no tumor and 1 stands for have tumor\n",
    "    if data_Yt.tumor_type[i] == 'no':\n",
    "        y_test.append(0)\n",
    "    else:\n",
    "        y_test.append(1)\n",
    "    #list like img set\n",
    "    #x_test.append(data_Xt[i].tolist())"
   ]
  },
  {
   "cell_type": "code",
   "execution_count": 14,
   "metadata": {},
   "outputs": [],
   "source": [
    "Xtrain = data_X.T\n",
    "Ytrain = np.array(y_train)\n",
    "Xtest = data_Xt.T\n",
    "Ytest = np.array(y_test)"
   ]
  },
  {
   "cell_type": "code",
   "execution_count": 15,
   "metadata": {},
   "outputs": [
    {
     "data": {
      "text/plain": [
       "(3000, 262144)"
      ]
     },
     "execution_count": 15,
     "metadata": {},
     "output_type": "execute_result"
    }
   ],
   "source": [
    "Xtrain.shape"
   ]
  },
  {
   "cell_type": "code",
   "execution_count": 11,
   "metadata": {},
   "outputs": [
    {
     "data": {
      "text/plain": [
       "(3000,)"
      ]
     },
     "execution_count": 11,
     "metadata": {},
     "output_type": "execute_result"
    }
   ],
   "source": [
    "Ytrain.shape"
   ]
  },
  {
   "cell_type": "code",
   "execution_count": 16,
   "metadata": {},
   "outputs": [
    {
     "data": {
      "text/plain": [
       "(200, 262144)"
      ]
     },
     "execution_count": 16,
     "metadata": {},
     "output_type": "execute_result"
    }
   ],
   "source": [
    "Xtest.shape"
   ]
  },
  {
   "cell_type": "code",
   "execution_count": 13,
   "metadata": {},
   "outputs": [
    {
     "data": {
      "text/plain": [
       "(200,)"
      ]
     },
     "execution_count": 13,
     "metadata": {},
     "output_type": "execute_result"
    }
   ],
   "source": [
    "Ytest.shape"
   ]
  },
  {
   "cell_type": "code",
   "execution_count": 34,
   "metadata": {},
   "outputs": [],
   "source": [
    "model0 = RFC(80, class_weight ='balanced',max_depth= None, min_samples_split= 2)\n",
    "model0.fit(Xtrain,Ytrain)\n",
    "Ypredict = model0.predict(Xtest)\n",
    "\n",
    "acc = metrics.accuracy_score(Ytest,Ypredict)\n",
    "prec = metrics.precision_score(Ytest,Ypredict)\n",
    "recall = metrics.recall_score(Ytest,Ypredict)\n",
    "f1 = metrics.f1_score(Ytest,Ypredict)\n",
    "\n",
    "Yscore = model0.predict_proba(Xtest)[:,1]\n",
    "roc = roc_curve(Ytest,Yscore)"
   ]
  },
  {
   "cell_type": "code",
   "execution_count": 36,
   "metadata": {},
   "outputs": [
    {
     "data": {
      "text/plain": [
       "(0.975, 0.9759036144578314, 0.9938650306748467, 0.9848024316109423)"
      ]
     },
     "execution_count": 36,
     "metadata": {},
     "output_type": "execute_result"
    }
   ],
   "source": [
    "acc,prec,recall,f1"
   ]
  },
  {
   "cell_type": "code",
   "execution_count": 40,
   "metadata": {},
   "outputs": [
    {
     "data": {
      "image/png": "[encoded data removed]",
      "text/plain": [
       "<Figure size 432x288 with 1 Axes>"
      ]
     },
     "metadata": {
      "needs_background": "light"
     },
     "output_type": "display_data"
    }
   ],
   "source": [
    "fpr,tpr,thresolds = roc\n",
    "plt.plot(fpr,tpr)\n",
    "plt.savefig('./figs/rf.svg')"
   ]
  },
  {
   "cell_type": "code",
   "execution_count": 17,
   "metadata": {},
   "outputs": [],
   "source": [
    "model1 = SVC(kernel='rbf',class_weight='balanced',probability = True,gamma=0.0005,C=0.8)\n",
    "model1.fit(Xtrain,Ytrain)\n",
    "Ypredict = model1.predict(Xtest)\n",
    "\n",
    "acc = metrics.accuracy_score(Ytest,Ypredict)\n",
    "prec = metrics.precision_score(Ytest,Ypredict)\n",
    "recall = metrics.recall_score(Ytest,Ypredict)\n",
    "f1 = metrics.f1_score(Ytest,Ypredict)\n",
    "\n",
    "Yscore = model1.predict_proba(Xtest)[:,1]\n",
    "roc = roc_curve(Ytest,Yscore)"
   ]
  },
  {
   "cell_type": "code",
   "execution_count": 18,
   "metadata": {},
   "outputs": [
    {
     "data": {
      "text/plain": [
       "(0.955, 0.9695121951219512, 0.9754601226993865, 0.9724770642201835)"
      ]
     },
     "execution_count": 18,
     "metadata": {},
     "output_type": "execute_result"
    }
   ],
   "source": [
    "acc,prec,recall,f1"
   ]
  },
  {
   "cell_type": "code",
   "execution_count": 19,
   "metadata": {},
   "outputs": [
    {
     "data": {
      "image/png": "[encoded data removed]",
      "text/plain": [
       "<Figure size 432x288 with 1 Axes>"
      ]
     },
     "metadata": {
      "needs_background": "light"
     },
     "output_type": "display_data"
    }
   ],
   "source": [
    "fpr,tpr,thresolds = roc\n",
    "plt.plot(fpr,tpr)\n",
    "plt.savefig('./figs/svm.svg')"
   ]
  },
  {
   "cell_type": "code",
   "execution_count": 21,
   "metadata": {},
   "outputs": [],
   "source": [
    "model2 = MLP(hidden_layer_sizes = (560,), activation = 'relu',solver = 'adam',learning_rate_init=0.0005,alpha=0.0001)\n",
    "model2.fit(Xtrain,Ytrain)\n",
    "Ypredict = model2.predict(Xtest)\n",
    "\n",
    "acc = metrics.accuracy_score(Ytest,Ypredict)\n",
    "prec = metrics.precision_score(Ytest,Ypredict)\n",
    "recall = metrics.recall_score(Ytest,Ypredict)\n",
    "f1 = metrics.f1_score(Ytest,Ypredict)\n",
    "\n",
    "Yscore = model2.predict_proba(Xtest)[:,1]\n",
    "roc = roc_curve(Ytest,Yscore)"
   ]
  },
  {
   "cell_type": "code",
   "execution_count": 22,
   "metadata": {},
   "outputs": [
    {
     "data": {
      "text/plain": [
       "(0.86, 0.9787234042553191, 0.8466257668711656, 0.9078947368421053)"
      ]
     },
     "execution_count": 22,
     "metadata": {},
     "output_type": "execute_result"
    }
   ],
   "source": [
    "acc,prec,recall,f1"
   ]
  },
  {
   "cell_type": "code",
   "execution_count": 23,
   "metadata": {},
   "outputs": [
    {
     "data": {
      "image/png": "[encoded data removed]",
      "text/plain": [
       "<Figure size 432x288 with 1 Axes>"
      ]
     },
     "metadata": {
      "needs_background": "light"
     },
     "output_type": "display_data"
    }
   ],
   "source": [
    "fpr,tpr,thresolds = roc\n",
    "plt.plot(fpr,tpr)\n",
    "plt.savefig('./figs/mlp.svg')"
   ]
  }
 ],
 "metadata": {
  "interpreter": {
   "hash": "041b99419b31a1aa6b11d902172fdb9630ac2ffc40bebeba6c7d44b022968f06"
  },
  "kernelspec": {
   "display_name": "Python 3.7.11 64-bit ('python37AMLS': conda)",
   "language": "python",
   "name": "python3"
  },
  "language_info": {
   "codemirror_mode": {
    "name": "ipython",
    "version": 3
   },
   "file_extension": ".py",
   "mimetype": "text/x-python",
   "name": "python",
   "nbconvert_exporter": "python",
   "pygments_lexer": "ipython3",
   "version": "3.7.11"
  },
  "orig_nbformat": 4
 },
 "nbformat": 4,
 "nbformat_minor": 2
}
